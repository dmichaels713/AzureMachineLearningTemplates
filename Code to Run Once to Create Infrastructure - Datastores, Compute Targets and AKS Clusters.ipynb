{
 "cells": [
  {
   "cell_type": "markdown",
   "metadata": {},
   "source": [
    "# Create Infrastructure for your Machine Learning Project\n",
    "With this code, we will create a Datastore, a Compute Cluster and an AKS Cluster for our Machine Learning Project.<p>\n",
    "    <b>Datastores</b> are pointers that connect your Azure Machine Learning Service Workspace to your Azure Storage Accounts or Azure SQL Servers.<br><b>Compute Clusters</b> are clusters of virtual machines that you use to remotely train your Machine Learning models. <br><b>AKS Clusters</b> are clusters of virtual machines that you use to score your Models in real-time after you train them.<p>AKS clusters are necessary only if you intend to score data in real-time instead of batch and should only be used in production."
   ]
  },
  {
   "cell_type": "markdown",
   "metadata": {},
   "source": [
    "### Load your Libraries"
   ]
  },
  {
   "cell_type": "code",
   "execution_count": null,
   "metadata": {},
   "outputs": [],
   "source": [
    "import azureml.core\n",
    "from azureml.core import Workspace, Datastore, Keyvault\n",
    "from azureml.core.compute import AksCompute, ComputeTarget, AmlCompute"
   ]
  },
  {
   "cell_type": "markdown",
   "metadata": {},
   "source": [
    "### Check your version of the AzureML Python SDK"
   ]
  },
  {
   "cell_type": "code",
   "execution_count": null,
   "metadata": {},
   "outputs": [],
   "source": [
    "print(\"You are currently using version \" + azureml.core.VERSION + \" of the Azure ML SDK\")"
   ]
  },
  {
   "cell_type": "markdown",
   "metadata": {},
   "source": [
    "### Set your Workspace\n",
    "When performing this step for the first time, you will be asked to sign in using a hyperlink and a code generated below.<br>You will be asked to log in every so often depending on your organization.<br>  This connects your notebook to your Azure Machine Learning Service Workspace."
   ]
  },
  {
   "cell_type": "code",
   "execution_count": null,
   "metadata": {},
   "outputs": [],
   "source": [
    "# Retrieve your workspace from config\n",
    "ws = Workspace.from_config()"
   ]
  },
  {
   "cell_type": "markdown",
   "metadata": {},
   "source": [
    "### Set your Variables here.\n",
    "This is the only place in the notebook where you have to adjust your code. There are 4 sections.<p>Section 1 is for creating a Datastore for an Azure Blob Container. This can be used for Blob Containers on Azure Data Lake as well.</p><p>Section 2 is for creating a Datastore for an Azure SQL Database.</p><p>Section 3 is for creating a Compute Cluster for training machine learning models remotely and for running Machine Learning Pipelines.</p><p>Section 4 is for creating an AKS Cluster to host Real-Time Scoring Endpoints.</p>"
   ]
  },
  {
   "cell_type": "code",
   "execution_count": null,
   "metadata": {},
   "outputs": [],
   "source": [
    "# Section 1 - Blob Container Datastore\n",
    "\n",
    "# Enter a name for your Datastore. It can include lowercase letters, numbers and underscores.\n",
    "Blob_Datastore_Name = 'your_ds_blob_name'\n",
    "\n",
    "# Enter the name of the Storage Account for which you will create an AMLS Datastore.\n",
    "Storage_Account_Name = 'mlteachingstorage'\n",
    "\n",
    "# Enter the name of the Container for which you will create an AMLS Datastore.\n",
    "Storage_Container_Name = 'ml-teaching-datalake'\n",
    "\n",
    "# Enter the Keyvault Secret Name. This Secret will hold your Storage Account Key.\n",
    "Storage_Account_Key_Secret = 'datastore-password'\n",
    "\n",
    "# Enter the Key for your Storage Account. You can delete this after you run this cell once.\n",
    "Storage_Account_Key = 'your-storage-account-key'\n",
    "\n",
    "# Set your Key Vault Secret which will hold your Storage Account Key. Comment this out after you run this cell once.\n",
    "kv.set_secret(name = Storage_Account_Key_Secret, value = Storage_Account_Key)"
   ]
  },
  {
   "cell_type": "code",
   "execution_count": null,
   "metadata": {},
   "outputs": [],
   "source": [
    "# Section 2 - Azure SQL Database Datastore\n",
    "\n",
    "# Enter a name for your Datastore. It can include lowercase letters, numbers and underscores.\n",
    "SQL_Datastore_Name = 'your_ds_sql_name'\n",
    "\n",
    "# Enter the name of the SQL Server for which you will create an AMLS Datastore.\n",
    "SQL_Server_Name = 'mlteachingstorage'\n",
    "\n",
    "# Enter the name of the Azure SQL Database for which you will create an AMLS Datastore.\n",
    "SQL_Database_Name = 'ml-teaching-datalake'\n",
    "\n",
    "# Enter the Keyvault Secret Name. This Secret will hold your SQL User Name.\n",
    "SQL_User_Secret = 'sql-username'\n",
    "\n",
    "# Enter the Keyvault Secret Name. This Secret will hold your SQL User Password.\n",
    "SQL_Password_Secret = 'sql-password'\n",
    "\n",
    "# Enter your SQL Username. You can delete this after you run this cell once.\n",
    "SQL_User_Name = 'your-sql-username'\n",
    "\n",
    "# Enter your SQL Password. You can delete this after you run this cell once.\n",
    "SQL_Password = 'your-sql-password'\n",
    "\n",
    "# Set your Key Vault Secret which will hold your SQL Username. Comment this out after you run this cell once.\n",
    "kv.set_secret(name = SQL_User_Secret, value = SQL_User_Name)\n",
    "\n",
    "# Set your Key Vault Secret which will hold your SQL Password. Comment this out after you run this cell once.\n",
    "kv.set_secret(name = SQL_Password_Secret, value = SQL_Password)"
   ]
  },
  {
   "cell_type": "code",
   "execution_count": null,
   "metadata": {},
   "outputs": [],
   "source": [
    "# Section 3 - Compute Cluster\n",
    "\n",
    "# Enter a name for your Compute Cluster. It can include letters, digits and dashes and be between 2-16 characters long.\n",
    "Compute_Cluster_Name = 'your-CC-Name'\n",
    "\n",
    "# Enter a Virtual Machine Type/Size/SKU. See a list of VMs by using the GUI and creating a Compute Instance or Cluster.\n",
    "# Standard_DS3 VMs are CPU based. For Deep Learning tasks, use a GPU-based VM such as a Standard_NC6.\n",
    "Compute_Cluster_Type = 'Standard_DS3_v2'\n",
    "\n",
    "# Enter the minimum number of Virtual Machine Nodes for your Cluster. 0 is the recommended for cost savings.\n",
    "Compute_Cluster_Min_Node_Count = 0\n",
    "\n",
    "# Enter the maximum number of Nodes for your Cluster. \n",
    "# Set this higher for more parallelization in AutoML, HyperDrive, Dask runs, Many Models, and Parallel Run Pipelines.\n",
    "Compute_Cluster_Max_Node_Count = 4\n",
    "\n",
    "# Enter the number of seconds a Compute Cluster is not in use before it scales down.\n",
    "# We recommend 1200 seconds (20 minutes) for development work and 120 seconds (2 minutes) for projects in production. \n",
    "Idle_Seconds = 1200"
   ]
  },
  {
   "cell_type": "code",
   "execution_count": null,
   "metadata": {},
   "outputs": [],
   "source": [
    "# Section 4 - AKS Cluster\n",
    "\n",
    "# Enter a name for your AKS Cluster. It can include letters, digits and dashes and be between 2-16 characters long.\n",
    "\n",
    "AKS_Cluster_Name = 'your-AKS-Name'\n",
    "\n",
    "# Enter a Virtual Machine Type/Size/SKU\n",
    "AKS_Cluster_Type = 'Standard_DS3_v2'\n",
    "\n",
    "# Enter the number of Virtual Machine Nodes for your Cluster. Core Count per Node x # of Nodes must be greater than 12.\n",
    "AKS_Node_Count = 3\n",
    "\n",
    "# Enter the Desired Azure Location of your AKS Cluster.\n",
    "AKS_Location = 'centralus'"
   ]
  },
  {
   "cell_type": "markdown",
   "metadata": {},
   "source": [
    "### Connect to Keyvault\n",
    "Each Workspace comes with its own default Azure Keyvault.  Use this to store passwords, known as secrets.<br>Datastores require account keys for registration in the following step."
   ]
  },
  {
   "cell_type": "code",
   "execution_count": null,
   "metadata": {},
   "outputs": [],
   "source": [
    "kv = Keyvault(ws)"
   ]
  },
  {
   "cell_type": "markdown",
   "metadata": {},
   "source": [
    "### Register a Datastore to link your Storage Account to your AMLS Workspace\n",
    "A Datastore is a pointer to an Azure Storage Account or Azure SQL Database that links to your AMLS Workspace.<br>\n",
    "In the case of a Storage Account, you connect directly to a blob container.  You will need the following:<br>\n",
    "- Storage Account Name\n",
    "- Storage Account Container Name\n",
    "- Storage Account Key"
   ]
  },
  {
   "cell_type": "code",
   "execution_count": null,
   "metadata": {},
   "outputs": [],
   "source": [
    "# Retrieve your Storage account Key Secret from Keyvault\n",
    "storage_secret = kv.get_secret(Storage_Account_Key_Secret)"
   ]
  },
  {
   "cell_type": "code",
   "execution_count": null,
   "metadata": {},
   "outputs": [],
   "source": [
    "# Set up a Datastore using the normal parameters (for Blob Storage or Azure Data Lake Gen 2)\n",
    "datastore = Datastore.register_azure_blob_container(workspace=ws, \n",
    "                                                         datastore_name= Blob_Datastore_Name,  \n",
    "                                                         container_name= Storage_Container_Name, \n",
    "                                                         account_name= Storage_Account_Name,\n",
    "                                                         account_key= storage_secret,\n",
    "                                                         overwrite=True)"
   ]
  },
  {
   "cell_type": "markdown",
   "metadata": {},
   "source": [
    "### Register a Datastore to link your Azure SQL Server to your AMLS Workspace\n",
    "A Datastore is a pointer to an Azure Storage Account or Azure SQL Database that links to your AMLS Workspace.<br>\n",
    "In the case of a SQL Server, you connect directly to a blob container.  You will need the following:<br>\n",
    "- SQL Server Name\n",
    "- SQL Database Name\n",
    "- SQL User Name\n",
    "- SQL User Password"
   ]
  },
  {
   "cell_type": "code",
   "execution_count": null,
   "metadata": {},
   "outputs": [],
   "source": [
    "# Retrieve your Username and PasswordSecrets from Keyvault\n",
    "user_secret = kv.get_secret(SQL_User_Secret)\n",
    "sql_password_secret = kv.get_secret(SQL_Password_Secret)"
   ]
  },
  {
   "cell_type": "code",
   "execution_count": null,
   "metadata": {},
   "outputs": [],
   "source": [
    "# Set up a Datastore using the normal parameters for Azure SQL Database\n",
    "sql_datastore = Datastore.register_azure_sql_database(\n",
    "       workspace=ws,\n",
    "       datastore_name= SQL_Datastore_Name,\n",
    "       server_name= SQL_Server_Name,\n",
    "       database_name= SQL_Database_Name,\n",
    "       username= user_secret,\n",
    "       password= sql_password_secret)"
   ]
  },
  {
   "cell_type": "markdown",
   "metadata": {},
   "source": [
    "### Create a Compute Cluster for Remote Training\n",
    "Compute Clusters let your Train Machine Learning Models remotely and automatically scale up and down.<br>\n",
    "Setting your minimum nodes to 0 will automatically spin down your cluster when it's not in use.<br>\n",
    "Intelligently set your idle seconds before scaledown to control costs when you're not using your cluster."
   ]
  },
  {
   "cell_type": "code",
   "execution_count": null,
   "metadata": {},
   "outputs": [],
   "source": [
    "# Check to see if your Cluster already exists.  Spin it up if it does not.\n",
    "if Compute_Cluster_Name in ws.compute_targets:\n",
    "    compute_target = ws.compute_targets[Compute_Cluster_Name]\n",
    "    if compute_target and type(compute_target) is AmlCompute:\n",
    "        print('found compute target. just use it. ' + Compute_Cluster_Name)\n",
    "else:\n",
    "    print('creating a new compute target...')\n",
    "    provisioning_config = AmlCompute.provisioning_configuration(vm_size=Compute_Cluster_Type,\n",
    "                                                                min_nodes=Compute_Cluster_Min_Node_Count,\n",
    "                                                                max_nodes=Compute_Cluster_Max_Node_Count,\n",
    "                                                                idle_seconds_before_scaledown = Idle_Seconds)\n",
    "    # Create the cluster\n",
    "    compute_target = ComputeTarget.create(ws, Compute_Cluster_Name, provisioning_config)\n",
    "      \n",
    "    # Wait for the cluster to complete, show the output log\n",
    "    compute_target.wait_for_completion(show_output=True)"
   ]
  },
  {
   "cell_type": "markdown",
   "metadata": {},
   "source": [
    "### Create an AKS Cluster for Real-Time Inferencing\n",
    "Select a VM Size and number of VMs to run your AKS cluster.  Your cores must number at least 12, so if you select a VM with 4 cores, set agent count to 3.<br>\n",
    "A single AKS Cluster can support many deployments depending on the size of the cluster.\n",
    "\n",
    "Check out AKS configuration options here:<br> https://docs.microsoft.com/en-us/python/api/azureml-core/azureml.core.compute.aks.aksprovisioningconfiguration?view=azure-ml-py"
   ]
  },
  {
   "cell_type": "code",
   "execution_count": null,
   "metadata": {},
   "outputs": [],
   "source": [
    "# Set your configurations here.  Select Larger VM sizes and more agents for faster performance\n",
    "# Agent Count x Number of Cores must be equal to or greater than 12\n",
    "prov_config = AksCompute.provisioning_configuration(vm_size = AKS_Cluster_Type, agent_count = AKS_Node_Count,\\\n",
    "                                                    location = AKS_Location)"
   ]
  },
  {
   "cell_type": "code",
   "execution_count": null,
   "metadata": {},
   "outputs": [],
   "source": [
    "# Check to see if your AKS Cluster already exists.  Spin it up if it does not.\n",
    "if AKS_Cluster_Name in ws.compute_targets:\n",
    "    aks_target = ws.compute_targets[AKS_Cluster_Name]\n",
    "    if AKS_Cluster_Name and type(AKS_Cluster_Name) is AksCompute:\n",
    "        print('found compute target. just use it. ' + AKS_Cluster_Name)\n",
    "else:\n",
    "    print('creating a new compute target...')\n",
    "   # Create the cluster and attach it to your workspace\n",
    "    aks_target = ComputeTarget.create(workspace = ws,\n",
    "                                        name = AKS_Cluster_Name,\n",
    "                                        provisioning_configuration = prov_config)\n",
    "    # Wait for the create process to completeaks\n",
    "    aks_target.wait_for_completion(show_output = True)"
   ]
  },
  {
   "cell_type": "code",
   "execution_count": null,
   "metadata": {},
   "outputs": [],
   "source": []
  }
 ],
 "metadata": {
  "kernelspec": {
   "display_name": "Python 3.6 - AzureML",
   "language": "python",
   "name": "python3-azureml"
  },
  "language_info": {
   "codemirror_mode": {
    "name": "ipython",
    "version": 3
   },
   "file_extension": ".py",
   "mimetype": "text/x-python",
   "name": "python",
   "nbconvert_exporter": "python",
   "pygments_lexer": "ipython3",
   "version": "3.6.9"
  }
 },
 "nbformat": 4,
 "nbformat_minor": 2
}
