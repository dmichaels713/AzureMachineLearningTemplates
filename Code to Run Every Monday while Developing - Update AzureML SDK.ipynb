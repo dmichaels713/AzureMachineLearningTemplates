{
 "cells": [
  {
   "cell_type": "markdown",
   "metadata": {},
   "source": [
    "# Update AzureML and Restart the Kernel\n",
    "It's a good idea to do this at the start of each project to make sure you're using the latest version of Azure ML.</p>\n",
    "The Azure ML Python SDK often gets updated on Mondays, so please run this every Monday as you're developing a project."
   ]
  },
  {
   "cell_type": "markdown",
   "metadata": {},
   "source": [
    "### Check your version of the AzureML Python SDK"
   ]
  },
  {
   "cell_type": "code",
   "execution_count": null,
   "metadata": {},
   "outputs": [],
   "source": [
    "import azureml.core\n",
    "print(\"You are currently using version \" + azureml.core.VERSION + \" of the Azure ML SDK\")"
   ]
  },
  {
   "cell_type": "markdown",
   "metadata": {},
   "source": [
    "### Update Azure ML Core"
   ]
  },
  {
   "cell_type": "code",
   "execution_count": null,
   "metadata": {},
   "outputs": [],
   "source": [
    "%pip install --upgrade azureml-sdk"
   ]
  },
  {
   "cell_type": "markdown",
   "metadata": {},
   "source": [
    "### Update Azure ML Extra Packages\n",
    "The Azure ML Python SDK includes a number of extra packages that you will want to keep up to date."
   ]
  },
  {
   "cell_type": "code",
   "execution_count": null,
   "metadata": {},
   "outputs": [],
   "source": [
    "%pip install --upgrade azureml-sdk[accel-models,automl,contrib,databricks,datadrift,explain,interpret,notebooks,services,tensorboard]"
   ]
  },
  {
   "cell_type": "markdown",
   "metadata": {},
   "source": [
    "### Check for any auxillary and test packages beginning with Azure ML to Update them"
   ]
  },
  {
   "cell_type": "code",
   "execution_count": null,
   "metadata": {},
   "outputs": [],
   "source": [
    "!pip freeze "
   ]
  },
  {
   "cell_type": "markdown",
   "metadata": {},
   "source": [
    "### Update any package you find that begins with \"azureml-\" and whose version is lower than \"azureml-core\"\n",
    "Below is a list of packages as of July 3rd, 2020.  This list changes every week depending on new releases and on which packages get incorporated into core."
   ]
  },
  {
   "cell_type": "code",
   "execution_count": null,
   "metadata": {},
   "outputs": [],
   "source": [
    "# Here are some common ones.  Note that it's okay if these are on a different version than core after updating.\n",
    "%pip install --upgrade azureml-cli-common\n",
    "%pip install --upgrade azureml-datadrift\n",
    "%pip install --upgrade azureml-dataprep\n",
    "%pip install --upgrade azureml-mlflow\n",
    "%pip install --upgrade azureml-model-management-sdk\n",
    "%pip install --upgrade azureml-monitoring\n",
    "%pip install --upgrade azureml-opendatasets\n",
    "%pip install --upgrade azureml-samples\n",
    "\n",
    "# Here are some contrib packages for preview features. Drop them once the standard package becomes available.\n",
    "%pip install --upgrade azureml-contrib-dataset\n",
    "%pip install --upgrade azureml-contrib-fairness\n",
    "%pip install --upgrade azureml-contrib-gbdt\n",
    "%pip install --upgrade azureml-contrib-interpret\n",
    "%pip install --upgrade azureml-contrib-reinforcementlearning"
   ]
  },
  {
   "cell_type": "markdown",
   "metadata": {},
   "source": [
    "### Restart the Kernel and Run the Cell Below"
   ]
  },
  {
   "cell_type": "code",
   "execution_count": 1,
   "metadata": {},
   "outputs": [
    {
     "name": "stdout",
     "output_type": "stream",
     "text": [
      "You are currently using version 1.20.0 of the Azure ML SDK\n",
      "2021-01-21 19:36:42.137880\n"
     ]
    }
   ],
   "source": [
    "from datetime import datetime\n",
    "import azureml.core\n",
    "print(\"You are currently using version \" + azureml.core.VERSION + \" of the Azure ML SDK\")\n",
    "print (datetime.now())"
   ]
  },
  {
   "cell_type": "code",
   "execution_count": null,
   "metadata": {},
   "outputs": [],
   "source": []
  }
 ],
 "metadata": {
  "kernelspec": {
   "display_name": "Python 3.6 - AzureML",
   "language": "python",
   "name": "python3-azureml"
  },
  "language_info": {
   "codemirror_mode": {
    "name": "ipython",
    "version": 3
   },
   "file_extension": ".py",
   "mimetype": "text/x-python",
   "name": "python",
   "nbconvert_exporter": "python",
   "pygments_lexer": "ipython3",
   "version": "3.6.9"
  }
 },
 "nbformat": 4,
 "nbformat_minor": 4
}
